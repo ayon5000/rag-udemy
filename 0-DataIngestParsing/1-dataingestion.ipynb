{
 "cells": [
  {
   "cell_type": "markdown",
   "id": "53e46874",
   "metadata": {},
   "source": [
    "## Introduction to Data Ingestion"
   ]
  },
  {
   "cell_type": "code",
   "execution_count": 5,
   "id": "6fefa8d0",
   "metadata": {},
   "outputs": [],
   "source": [
    "import os\n",
    "from typing import List, Dict, Any\n",
    "import pandas as pd"
   ]
  },
  {
   "cell_type": "code",
   "execution_count": null,
   "id": "45b6879f",
   "metadata": {},
   "outputs": [],
   "source": [
    "from langchain_core.documents import Document\n",
    "from langchain.text_splitter import (\n",
    "    CharacterTextSplitter,\n",
    "    RecursiveCharacterTextSplitter,\n",
    "    TokenTextSplitter,\n",
    ")"
   ]
  },
  {
   "cell_type": "markdown",
   "id": "87c45f0c",
   "metadata": {},
   "source": [
    "## Understanding document structure in Langchain"
   ]
  },
  {
   "cell_type": "code",
   "execution_count": 4,
   "id": "8997dfa3",
   "metadata": {},
   "outputs": [
    {
     "name": "stdout",
     "output_type": "stream",
     "text": [
      "Content: This will be the main content that will be embedded and seached\n",
      "Metadata: {'source': 'example.text', 'page': 1}\n"
     ]
    }
   ],
   "source": [
    "## reate a simple document\n",
    "doc = Document(\n",
    "    page_content=\"This will be the main content that will be embedded and seached\",\n",
    "    metadata={\n",
    "        \"source\":\"example.text\",\n",
    "        \"page\": 1\n",
    "    }\n",
    ")\n",
    "\n",
    "print(f'Content: {doc.page_content}')\n",
    "print(f'Metadata: {doc.metadata}')"
   ]
  },
  {
   "cell_type": "code",
   "execution_count": 6,
   "id": "534fcdd4",
   "metadata": {},
   "outputs": [
    {
     "data": {
      "text/plain": [
       "langchain_core.documents.base.Document"
      ]
     },
     "execution_count": 6,
     "metadata": {},
     "output_type": "execute_result"
    }
   ],
   "source": [
    "type(doc)"
   ]
  },
  {
   "cell_type": "markdown",
   "id": "39507c3b",
   "metadata": {},
   "source": [
    "### Reading text files"
   ]
  },
  {
   "cell_type": "code",
   "execution_count": 8,
   "id": "6f3ea254",
   "metadata": {},
   "outputs": [],
   "source": [
    "## Create a text file\n",
    "os.makedirs(\"./data/text_files\",exist_ok=True)"
   ]
  },
  {
   "cell_type": "code",
   "execution_count": 9,
   "id": "49904bff",
   "metadata": {},
   "outputs": [],
   "source": [
    "sample_texts={\n",
    "    \"./data/text_files/python_intro.txt\":\"\"\"\n",
    "    Python Programming Introduction\n",
    "\n",
    "Python is a high-level, interpreted programming language known for its simplicity and readability.\n",
    "Created by Guido van Rossum and first released in 1991, Python has become one of the most popular\n",
    "programming languages in the world.\n",
    "\n",
    "Key Features:\n",
    "- Easy to learn and use\n",
    "- Extensive standard library\n",
    "- Cross-platform compatibility\n",
    "- Strong community support\n",
    "\n",
    "Python is widely used in web development, data science, artificial intelligence, and automation.\n",
    "    \"\"\",\n",
    "    \"./data/text_files/machine_learning.txt\": \"\"\"\n",
    "        Machine Learning Basics\n",
    "\n",
    "Machine learning is a subset of artificial intelligence that enables systems to learn and improve\n",
    "from experience without being explicitly programmed. It focuses on developing computer programs\n",
    "that can access data and use it to learn for themselves.\n",
    "\n",
    "Types of Machine Learning:\n",
    "1. Supervised Learning: Learning with labeled data\n",
    "2. Unsupervised Learning: Finding patterns in unlabeled data\n",
    "3. Reinforcement Learning: Learning through rewards and penalties\n",
    "\n",
    "Applications include image recognition, speech processing, and recommendation systems\n",
    "\n",
    "\n",
    "    \n",
    "    \"\"\"\n",
    "}\n",
    "\n",
    "for filepath, content in sample_texts.items():\n",
    "    with open(filepath,'w',encoding='utf-8') as f:\n",
    "        f.write(content)\n",
    "    f.close()"
   ]
  },
  {
   "cell_type": "markdown",
   "id": "4218e3f9",
   "metadata": {},
   "source": [
    "### TextLoader - Read Single File"
   ]
  },
  {
   "cell_type": "code",
   "execution_count": 10,
   "id": "c95a98b6",
   "metadata": {},
   "outputs": [
    {
     "name": "stdout",
     "output_type": "stream",
     "text": [
      "[Document(metadata={'source': './data/text_files/python_intro.txt'}, page_content='\\n    Python Programming Introduction\\n\\nPython is a high-level, interpreted programming language known for its simplicity and readability.\\nCreated by Guido van Rossum and first released in 1991, Python has become one of the most popular\\nprogramming languages in the world.\\n\\nKey Features:\\n- Easy to learn and use\\n- Extensive standard library\\n- Cross-platform compatibility\\n- Strong community support\\n\\nPython is widely used in web development, data science, artificial intelligence, and automation.\\n    ')]\n"
     ]
    }
   ],
   "source": [
    "from langchain.document_loaders import TextLoader\n",
    "\n",
    "loader = TextLoader(\"./data/text_files/python_intro.txt\", encoding='utf-8')\n",
    "\n",
    "documents = loader.load()\n",
    "\n",
    "print(documents)"
   ]
  },
  {
   "cell_type": "code",
   "execution_count": 14,
   "id": "df81ad52",
   "metadata": {},
   "outputs": [
    {
     "name": "stdout",
     "output_type": "stream",
     "text": [
      "Loaded 1 documents\n",
      "Content preview:\n",
      " \n",
      "    Python Programming Introduction\n",
      "\n",
      "Python is a high-level, interpreted programming language known\n",
      "Metadata: {'source': './data/text_files/python_intro.txt'}\n"
     ]
    }
   ],
   "source": [
    "print(f'Loaded {len(documents)} documents')\n",
    "print(f'Content preview:\\n {documents[0].page_content[:100]}')\n",
    "print(f'Metadata: {documents[0].metadata}')"
   ]
  },
  {
   "cell_type": "markdown",
   "id": "437bc10d",
   "metadata": {},
   "source": [
    "### DirectoryLoader - Read Multiple Text Files"
   ]
  },
  {
   "cell_type": "code",
   "execution_count": 16,
   "id": "a7c7ffec",
   "metadata": {},
   "outputs": [
    {
     "name": "stderr",
     "output_type": "stream",
     "text": [
      "100%|██████████| 2/2 [00:00<00:00, 57.74it/s]"
     ]
    },
    {
     "name": "stdout",
     "output_type": "stream",
     "text": [
      "Document: 1\n",
      "Source: data/text_files/machine_learning.txt\n",
      "Length: 585\n",
      "Document: 2\n",
      "Source: data/text_files/python_intro.txt\n",
      "Length: 499\n"
     ]
    },
    {
     "name": "stderr",
     "output_type": "stream",
     "text": [
      "\n"
     ]
    }
   ],
   "source": [
    "from langchain.document_loaders import DirectoryLoader\n",
    "\n",
    "dir_loader = DirectoryLoader(\n",
    "    path = './data/text_files',\n",
    "    glob='**/*.txt', # Pattern to match files\n",
    "    loader_cls=TextLoader, # Loader class to use\n",
    "    loader_kwargs={'encoding': 'utf-8'}, # Arguments that the loader class expects\n",
    "    show_progress=True,\n",
    ")\n",
    "\n",
    "documents = dir_loader.load()\n",
    "for i, doc in enumerate(documents):\n",
    "    print(f'Document: {i+1}')\n",
    "    print(f\"Source: {doc.metadata['source']}\")\n",
    "    print(f'Length: {len(doc.page_content)}')"
   ]
  },
  {
   "cell_type": "markdown",
   "id": "ea97dca5",
   "metadata": {},
   "source": [
    "DirectoryLoader\n",
    "\n",
    "Advantages:\n",
    "- Loads multiple files at once\n",
    "- Supports glob patterns\n",
    "- Progress racking\n",
    "- ecursive directory scanning\n",
    "\n",
    "Disadvantages:\n",
    "- All files must be of the same type\n",
    "- Limited error handling per file\n",
    "- Can be memory intensive for large directories"
   ]
  },
  {
   "cell_type": "markdown",
   "id": "8246b664",
   "metadata": {},
   "source": [
    "### Text Splitting Strategies"
   ]
  },
  {
   "cell_type": "code",
   "execution_count": 19,
   "id": "7d72d934",
   "metadata": {},
   "outputs": [
    {
     "name": "stdout",
     "output_type": "stream",
     "text": [
      "Created 4 chunks\n",
      "First chunk: Machine Learning Basics\n",
      "Machine learning is a subset of artificial intelligence that enables systems\n"
     ]
    }
   ],
   "source": [
    "# Method 1 - Character Text Splitter\n",
    "text = documents[0].page_content\n",
    "char_splitter = CharacterTextSplitter(\n",
    "    separator=\"\\n\",\n",
    "    chunk_size=200,\n",
    "    chunk_overlap=20,\n",
    "    length_function=len,\n",
    ")\n",
    "\n",
    "# Since we are passing a text object to the splitter, hence we use the method split_text\n",
    "char_chunks = char_splitter.split_text(text)\n",
    "print(f\"Created {len(char_chunks)} chunks\")\n",
    "print(f\"First chunk: {char_chunks[0][:100]}\")"
   ]
  },
  {
   "cell_type": "code",
   "execution_count": 21,
   "id": "a938c757",
   "metadata": {},
   "outputs": [
    {
     "name": "stdout",
     "output_type": "stream",
     "text": [
      "---------------\n",
      "Machine Learning Basics\n",
      "Machine learning is a subset of artificial intelligence that enables systems to learn and improve\n",
      "---------------\n",
      "from experience without being explicitly programmed. It focuses on developing computer programs\n",
      "that can access data and use it to learn for themselves.\n",
      "Types of Machine Learning:\n",
      "---------------\n",
      "1. Supervised Learning: Learning with labeled data\n",
      "2. Unsupervised Learning: Finding patterns in unlabeled data\n",
      "3. Reinforcement Learning: Learning through rewards and penalties\n",
      "---------------\n",
      "Applications include image recognition, speech processing, and recommendation systems\n"
     ]
    }
   ],
   "source": [
    "for chunk_out in char_chunks:\n",
    "    print(\"---------------\")\n",
    "    print(chunk_out)"
   ]
  },
  {
   "cell_type": "markdown",
   "id": "93b669ca",
   "metadata": {},
   "source": [
    "Notice that we have added chunk_verlap = 20, however, we do not see that overlap in the output. This is because we have set the seperator = \"\\n\" which leads to chunking at new lines."
   ]
  }
 ],
 "metadata": {
  "kernelspec": {
   "display_name": "rag-udemy",
   "language": "python",
   "name": "python3"
  },
  "language_info": {
   "codemirror_mode": {
    "name": "ipython",
    "version": 3
   },
   "file_extension": ".py",
   "mimetype": "text/x-python",
   "name": "python",
   "nbconvert_exporter": "python",
   "pygments_lexer": "ipython3",
   "version": "3.11.9"
  }
 },
 "nbformat": 4,
 "nbformat_minor": 5
}
